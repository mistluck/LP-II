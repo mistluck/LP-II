{
 "cells": [
  {
   "cell_type": "code",
   "execution_count": null,
   "id": "352e20df-cd78-4ef4-b634-536cab0036ef",
   "metadata": {},
   "outputs": [],
   "source": [
    "from collections import defaultdict, deque\n",
    "\n",
    "class Graph:\n",
    "    def __init__(self):\n",
    "        self.graph = defaultdict(list)\n",
    "    \n",
    "    def add_edge(self,u,v):\n",
    "        sel.graph[u].append[v]\n",
    "        sel.graph[v].append[u]\n",
    "    \n",
    "    def bfs_recursive(self, vertex, visited = None):\n",
    "        if visited is None:\n",
    "            visited = set()\n",
    "        visited.add(vertex)\n",
    "        print(vertex, end='')\n",
    "        for neighbour \n",
    "            \n",
    "     \n",
    "\n",
    "\n",
    "g = Graph()\n",
    "g.add_edge(0,1)\n",
    "g.add_edge(0,2)\n",
    "g.add_edge(1,2)\n",
    "g.add_edge(2,3)\n",
    "g.add_edge(3,4)\n",
    "\n"
   ]
  }
 ],
 "metadata": {
  "kernelspec": {
   "display_name": "Python 3 (ipykernel)",
   "language": "python",
   "name": "python3"
  },
  "language_info": {
   "codemirror_mode": {
    "name": "ipython",
    "version": 3
   },
   "file_extension": ".py",
   "mimetype": "text/x-python",
   "name": "python",
   "nbconvert_exporter": "python",
   "pygments_lexer": "ipython3",
   "version": "3.11.2"
  }
 },
 "nbformat": 4,
 "nbformat_minor": 5
}
