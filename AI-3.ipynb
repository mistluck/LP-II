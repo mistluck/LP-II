{
 "cells": [
  {
   "cell_type": "code",
   "execution_count": 17,
   "id": "e03ece44-d8b4-43ff-b5c6-340f2fe0d7ee",
   "metadata": {},
   "outputs": [
    {
     "name": "stdout",
     "output_type": "stream",
     "text": [
      "Original Array [25, 28, 20, 15, 26]\n",
      "Step:1[15, 28, 20, 25, 26]\n",
      "Step:2[15, 20, 28, 25, 26]\n",
      "Step:3[15, 20, 25, 28, 26]\n",
      "Step:4[15, 20, 25, 26, 28]\n",
      "Step:5[15, 20, 25, 26, 28]\n",
      "Sorted Array: [15, 20, 25, 26, 28]\n"
     ]
    }
   ],
   "source": [
    "def selection_sort(arr):\n",
    "    n = len(arr)\n",
    "    for i in range(n):\n",
    "        min = i\n",
    "        for j in range(i+1, n):\n",
    "            if arr[j]<arr[min]:\n",
    "                min = j\n",
    "        arr[i],arr[min] = arr[min], arr[i]\n",
    "        print(f\"Step:{i+1}{arr}\")\n",
    "    return arr\n",
    "\n",
    "arr = [25,28,20,15,26]\n",
    "print(\"Original Array\",arr)\n",
    "sorted = selection_sort(arr)\n",
    "print(\"Sorted Array:\",sorted)\n",
    "    "
   ]
  },
  {
   "cell_type": "code",
   "execution_count": null,
   "id": "ee8cf903-f6cc-43ab-9694-9746a01908bd",
   "metadata": {},
   "outputs": [],
   "source": []
  }
 ],
 "metadata": {
  "kernelspec": {
   "display_name": "Python 3 (ipykernel)",
   "language": "python",
   "name": "python3"
  },
  "language_info": {
   "codemirror_mode": {
    "name": "ipython",
    "version": 3
   },
   "file_extension": ".py",
   "mimetype": "text/x-python",
   "name": "python",
   "nbconvert_exporter": "python",
   "pygments_lexer": "ipython3",
   "version": "3.11.2"
  }
 },
 "nbformat": 4,
 "nbformat_minor": 5
}
