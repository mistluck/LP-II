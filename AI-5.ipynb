{
 "cells": [
  {
   "cell_type": "code",
   "execution_count": 3,
   "id": "7c653778-f0e3-487e-9e0a-aa66dd976e97",
   "metadata": {},
   "outputs": [
    {
     "name": "stdout",
     "output_type": "stream",
     "text": [
      "Requirement already satisfied: nltk in c:\\users\\lenovo\\appdata\\local\\programs\\python\\python311\\lib\\site-packages (3.9.1)\n",
      "Requirement already satisfied: click in c:\\users\\lenovo\\appdata\\local\\programs\\python\\python311\\lib\\site-packages (from nltk) (8.1.8)\n",
      "Requirement already satisfied: joblib in c:\\users\\lenovo\\appdata\\local\\programs\\python\\python311\\lib\\site-packages (from nltk) (1.4.2)\n",
      "Requirement already satisfied: regex>=2021.8.3 in c:\\users\\lenovo\\appdata\\local\\programs\\python\\python311\\lib\\site-packages (from nltk) (2024.11.6)\n",
      "Requirement already satisfied: tqdm in c:\\users\\lenovo\\appdata\\local\\programs\\python\\python311\\lib\\site-packages (from nltk) (4.67.1)\n",
      "Requirement already satisfied: colorama in c:\\users\\lenovo\\appdata\\local\\programs\\python\\python311\\lib\\site-packages (from click->nltk) (0.4.6)\n",
      "Note: you may need to restart the kernel to use updated packages.\n"
     ]
    }
   ],
   "source": [
    "pip install nltk"
   ]
  },
  {
   "cell_type": "code",
   "execution_count": 1,
   "id": "4ea46a73-6679-4405-9cc7-d4e188cacba0",
   "metadata": {},
   "outputs": [],
   "source": [
    "import nltk\n",
    "from nltk.chat.util import Chat, reflections\n",
    "import tkinter as tk\n",
    "from tkinter import scrolledtext\n",
    "\n",
    "# Define chatbot responses using pairs\n",
    "pairs = [\n",
    "    [r\"List A to Z\", [\"A B C D E F G H I J K L M N O P Q R S T U V W X Y Z\"]],\n",
    "    [r\"hi|hello|hey\", [\"Hello! How can I assist you today?\", \"Hi there! How can I help?\"]],\n",
    "    [r\"how are you?\", [\"I'm doing fine! How about you?\"]],\n",
    "    [r\"I'm a (.*) your name?\", [\"I'm a chatbot, here to assist you.\"]],\n",
    "    [r\"bye|goodbye\", [\"Goodbye! Have a great day!\", \"Bye! Take care!\"]],\n",
    "    [r\"(.*)\", [\"I'm not sure how to respond to that. Could you rephrase?\"]]\n",
    "]\n",
    "\n",
    "# Create chatbot\n",
    "chatbot = Chat(pairs, reflections)\n",
    "\n",
    "# Send message function\n",
    "def send_message():\n",
    "    user_input = user_entry.get()\n",
    "    chat_history.insert(tk.END, f\"You: {user_input}\\n\")\n",
    "    response = chatbot.respond(user_input)\n",
    "    chat_history.insert(tk.END, f\"Bot: {response}\\n\\n\")\n",
    "    user_entry.delete(0, tk.END)\n",
    "\n",
    "# GUI setup\n",
    "root = tk.Tk()\n",
    "root.title(\"Simple Chatbot\")\n",
    "\n",
    "chat_history = scrolledtext.ScrolledText(root, wrap=tk.WORD, width=50, height=15)\n",
    "chat_history.pack(padx=10, pady=10)\n",
    "\n",
    "user_entry = tk.Entry(root, width=40)\n",
    "user_entry.pack(padx=10, pady=5)\n",
    "\n",
    "send_button = tk.Button(root, text=\"Send\", command=send_message)\n",
    "send_button.pack(padx=10, pady=5)\n",
    "\n",
    "root.mainloop()"
   ]
  },
  {
   "cell_type": "code",
   "execution_count": null,
   "id": "5ed0aadb-0bfd-44c1-8917-6d9077f89b1f",
   "metadata": {},
   "outputs": [],
   "source": []
  }
 ],
 "metadata": {
  "kernelspec": {
   "display_name": "Python 3 (ipykernel)",
   "language": "python",
   "name": "python3"
  },
  "language_info": {
   "codemirror_mode": {
    "name": "ipython",
    "version": 3
   },
   "file_extension": ".py",
   "mimetype": "text/x-python",
   "name": "python",
   "nbconvert_exporter": "python",
   "pygments_lexer": "ipython3",
   "version": "3.11.2"
  }
 },
 "nbformat": 4,
 "nbformat_minor": 5
}
